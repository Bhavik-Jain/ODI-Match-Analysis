{
 "cells": [
  {
   "cell_type": "markdown",
   "metadata": {},
   "source": [
    "# ODI Cricket Match Analysis"
   ]
  },
  {
   "cell_type": "markdown",
   "metadata": {},
   "source": [
    "#### Import Liabraries"
   ]
  },
  {
   "cell_type": "code",
   "execution_count": 1,
   "metadata": {},
   "outputs": [],
   "source": [
    "import pandas as pd\n",
    "import numpy as np"
   ]
  },
  {
   "cell_type": "markdown",
   "metadata": {},
   "source": [
    "#### Import Necessary Files"
   ]
  },
  {
   "cell_type": "code",
   "execution_count": 2,
   "metadata": {},
   "outputs": [
    {
     "data": {
      "text/html": [
       "<div>\n",
       "<style scoped>\n",
       "    .dataframe tbody tr th:only-of-type {\n",
       "        vertical-align: middle;\n",
       "    }\n",
       "\n",
       "    .dataframe tbody tr th {\n",
       "        vertical-align: top;\n",
       "    }\n",
       "\n",
       "    .dataframe thead th {\n",
       "        text-align: right;\n",
       "    }\n",
       "</style>\n",
       "<table border=\"1\" class=\"dataframe\">\n",
       "  <thead>\n",
       "    <tr style=\"text-align: right;\">\n",
       "      <th></th>\n",
       "      <th>Id</th>\n",
       "      <th>Team 1</th>\n",
       "      <th>Team 2</th>\n",
       "      <th>Winner</th>\n",
       "      <th>Margin</th>\n",
       "      <th>win_by_run</th>\n",
       "      <th>win_by_wicket</th>\n",
       "      <th>Ground</th>\n",
       "      <th>Match Date</th>\n",
       "      <th>Scorecard</th>\n",
       "    </tr>\n",
       "  </thead>\n",
       "  <tbody>\n",
       "    <tr>\n",
       "      <th>0</th>\n",
       "      <td>1</td>\n",
       "      <td>New Zealand</td>\n",
       "      <td>Pakistan</td>\n",
       "      <td>New Zealand</td>\n",
       "      <td>61 runs</td>\n",
       "      <td>61 runs</td>\n",
       "      <td>NaN</td>\n",
       "      <td>Wellington</td>\n",
       "      <td>6-Jan-18</td>\n",
       "      <td>ODI # 3946</td>\n",
       "    </tr>\n",
       "    <tr>\n",
       "      <th>1</th>\n",
       "      <td>2</td>\n",
       "      <td>New Zealand</td>\n",
       "      <td>Pakistan</td>\n",
       "      <td>New Zealand</td>\n",
       "      <td>8 wickets</td>\n",
       "      <td>NaN</td>\n",
       "      <td>8 wickets</td>\n",
       "      <td>Nelson</td>\n",
       "      <td>9-Jan-18</td>\n",
       "      <td>ODI # 3947</td>\n",
       "    </tr>\n",
       "    <tr>\n",
       "      <th>2</th>\n",
       "      <td>3</td>\n",
       "      <td>U.A.E.</td>\n",
       "      <td>Ireland</td>\n",
       "      <td>Ireland</td>\n",
       "      <td>4 wickets</td>\n",
       "      <td>NaN</td>\n",
       "      <td>4 wickets</td>\n",
       "      <td>ICCA Dubai</td>\n",
       "      <td>11-Jan-18</td>\n",
       "      <td>ODI # 3948</td>\n",
       "    </tr>\n",
       "    <tr>\n",
       "      <th>3</th>\n",
       "      <td>4</td>\n",
       "      <td>New Zealand</td>\n",
       "      <td>Pakistan</td>\n",
       "      <td>New Zealand</td>\n",
       "      <td>183 runs</td>\n",
       "      <td>183 runs</td>\n",
       "      <td>NaN</td>\n",
       "      <td>Dunedin</td>\n",
       "      <td>13-Jan-18</td>\n",
       "      <td>ODI # 3949</td>\n",
       "    </tr>\n",
       "    <tr>\n",
       "      <th>4</th>\n",
       "      <td>5</td>\n",
       "      <td>U.A.E.</td>\n",
       "      <td>Ireland</td>\n",
       "      <td>Ireland</td>\n",
       "      <td>67 runs</td>\n",
       "      <td>67 runs</td>\n",
       "      <td>NaN</td>\n",
       "      <td>ICCA Dubai</td>\n",
       "      <td>13-Jan-18</td>\n",
       "      <td>ODI # 3950</td>\n",
       "    </tr>\n",
       "  </tbody>\n",
       "</table>\n",
       "</div>"
      ],
      "text/plain": [
       "   Id       Team 1    Team 2       Winner     Margin win_by_run win_by_wicket  \\\n",
       "0   1  New Zealand  Pakistan  New Zealand    61 runs    61 runs           NaN   \n",
       "1   2  New Zealand  Pakistan  New Zealand  8 wickets        NaN     8 wickets   \n",
       "2   3       U.A.E.   Ireland      Ireland  4 wickets        NaN     4 wickets   \n",
       "3   4  New Zealand  Pakistan  New Zealand   183 runs   183 runs           NaN   \n",
       "4   5       U.A.E.   Ireland      Ireland    67 runs    67 runs           NaN   \n",
       "\n",
       "       Ground Match Date   Scorecard  \n",
       "0  Wellington   6-Jan-18  ODI # 3946  \n",
       "1      Nelson   9-Jan-18  ODI # 3947  \n",
       "2  ICCA Dubai  11-Jan-18  ODI # 3948  \n",
       "3     Dunedin  13-Jan-18  ODI # 3949  \n",
       "4  ICCA Dubai  13-Jan-18  ODI # 3950  "
      ]
     },
     "execution_count": 2,
     "metadata": {},
     "output_type": "execute_result"
    }
   ],
   "source": [
    "df = pd.read_csv(\"CricketMatches.csv\",na_values=' ')\n",
    "df.head()"
   ]
  },
  {
   "cell_type": "code",
   "execution_count": 3,
   "metadata": {},
   "outputs": [
    {
     "data": {
      "text/html": [
       "<div>\n",
       "<style scoped>\n",
       "    .dataframe tbody tr th:only-of-type {\n",
       "        vertical-align: middle;\n",
       "    }\n",
       "\n",
       "    .dataframe tbody tr th {\n",
       "        vertical-align: top;\n",
       "    }\n",
       "\n",
       "    .dataframe thead th {\n",
       "        text-align: right;\n",
       "    }\n",
       "</style>\n",
       "<table border=\"1\" class=\"dataframe\">\n",
       "  <thead>\n",
       "    <tr style=\"text-align: right;\">\n",
       "      <th></th>\n",
       "      <th>Id</th>\n",
       "      <th>Team 1</th>\n",
       "      <th>Team 2</th>\n",
       "      <th>Winner</th>\n",
       "      <th>Margin</th>\n",
       "      <th>win_by_run</th>\n",
       "      <th>win_by_wicket</th>\n",
       "      <th>Ground</th>\n",
       "      <th>Match Date</th>\n",
       "      <th>Scorecard</th>\n",
       "    </tr>\n",
       "  </thead>\n",
       "  <tbody>\n",
       "    <tr>\n",
       "      <th>0</th>\n",
       "      <td>1</td>\n",
       "      <td>New Zealand</td>\n",
       "      <td>Pakistan</td>\n",
       "      <td>New Zealand</td>\n",
       "      <td>61 runs</td>\n",
       "      <td>61 runs</td>\n",
       "      <td>NaN</td>\n",
       "      <td>Wellington</td>\n",
       "      <td>6-Jan-18</td>\n",
       "      <td>ODI # 3946</td>\n",
       "    </tr>\n",
       "    <tr>\n",
       "      <th>1</th>\n",
       "      <td>2</td>\n",
       "      <td>New Zealand</td>\n",
       "      <td>Pakistan</td>\n",
       "      <td>New Zealand</td>\n",
       "      <td>8 wickets</td>\n",
       "      <td>NaN</td>\n",
       "      <td>8 wickets</td>\n",
       "      <td>Nelson</td>\n",
       "      <td>9-Jan-18</td>\n",
       "      <td>ODI # 3947</td>\n",
       "    </tr>\n",
       "    <tr>\n",
       "      <th>2</th>\n",
       "      <td>3</td>\n",
       "      <td>U.A.E.</td>\n",
       "      <td>Ireland</td>\n",
       "      <td>Ireland</td>\n",
       "      <td>4 wickets</td>\n",
       "      <td>NaN</td>\n",
       "      <td>4 wickets</td>\n",
       "      <td>ICCA Dubai</td>\n",
       "      <td>11-Jan-18</td>\n",
       "      <td>ODI # 3948</td>\n",
       "    </tr>\n",
       "    <tr>\n",
       "      <th>3</th>\n",
       "      <td>4</td>\n",
       "      <td>New Zealand</td>\n",
       "      <td>Pakistan</td>\n",
       "      <td>New Zealand</td>\n",
       "      <td>183 runs</td>\n",
       "      <td>183 runs</td>\n",
       "      <td>NaN</td>\n",
       "      <td>Dunedin</td>\n",
       "      <td>13-Jan-18</td>\n",
       "      <td>ODI # 3949</td>\n",
       "    </tr>\n",
       "    <tr>\n",
       "      <th>4</th>\n",
       "      <td>5</td>\n",
       "      <td>U.A.E.</td>\n",
       "      <td>Ireland</td>\n",
       "      <td>Ireland</td>\n",
       "      <td>67 runs</td>\n",
       "      <td>67 runs</td>\n",
       "      <td>NaN</td>\n",
       "      <td>ICCA Dubai</td>\n",
       "      <td>13-Jan-18</td>\n",
       "      <td>ODI # 3950</td>\n",
       "    </tr>\n",
       "    <tr>\n",
       "      <th>...</th>\n",
       "      <td>...</td>\n",
       "      <td>...</td>\n",
       "      <td>...</td>\n",
       "      <td>...</td>\n",
       "      <td>...</td>\n",
       "      <td>...</td>\n",
       "      <td>...</td>\n",
       "      <td>...</td>\n",
       "      <td>...</td>\n",
       "      <td>...</td>\n",
       "    </tr>\n",
       "    <tr>\n",
       "      <th>123</th>\n",
       "      <td>124</td>\n",
       "      <td>Australia</td>\n",
       "      <td>South Africa</td>\n",
       "      <td>South Africa</td>\n",
       "      <td>40 runs</td>\n",
       "      <td>40 runs</td>\n",
       "      <td>NaN</td>\n",
       "      <td>Hobart</td>\n",
       "      <td>11-Nov-18</td>\n",
       "      <td>ODI # 4069</td>\n",
       "    </tr>\n",
       "    <tr>\n",
       "      <th>124</th>\n",
       "      <td>125</td>\n",
       "      <td>New Zealand</td>\n",
       "      <td>Pakistan</td>\n",
       "      <td>no result</td>\n",
       "      <td>NaN</td>\n",
       "      <td>NaN</td>\n",
       "      <td>NaN</td>\n",
       "      <td>Dubai (DSC)</td>\n",
       "      <td>11-Nov-18</td>\n",
       "      <td>ODI # 4070</td>\n",
       "    </tr>\n",
       "    <tr>\n",
       "      <th>125</th>\n",
       "      <td>126</td>\n",
       "      <td>Bangladesh</td>\n",
       "      <td>West Indies</td>\n",
       "      <td>Bangladesh</td>\n",
       "      <td>5 wickets</td>\n",
       "      <td>NaN</td>\n",
       "      <td>5 wickets</td>\n",
       "      <td>Dhaka</td>\n",
       "      <td>9-Dec-18</td>\n",
       "      <td>ODI # 4071</td>\n",
       "    </tr>\n",
       "    <tr>\n",
       "      <th>126</th>\n",
       "      <td>127</td>\n",
       "      <td>Bangladesh</td>\n",
       "      <td>West Indies</td>\n",
       "      <td>West Indies</td>\n",
       "      <td>4 wickets</td>\n",
       "      <td>NaN</td>\n",
       "      <td>4 wickets</td>\n",
       "      <td>Dhaka</td>\n",
       "      <td>11-Dec-18</td>\n",
       "      <td>ODI # 4072</td>\n",
       "    </tr>\n",
       "    <tr>\n",
       "      <th>127</th>\n",
       "      <td>128</td>\n",
       "      <td>Bangladesh</td>\n",
       "      <td>West Indies</td>\n",
       "      <td>Bangladesh</td>\n",
       "      <td>8 wickets</td>\n",
       "      <td>NaN</td>\n",
       "      <td>8 wickets</td>\n",
       "      <td>Sylhet</td>\n",
       "      <td>14-Dec-18</td>\n",
       "      <td>ODI # 4073</td>\n",
       "    </tr>\n",
       "  </tbody>\n",
       "</table>\n",
       "<p>128 rows × 10 columns</p>\n",
       "</div>"
      ],
      "text/plain": [
       "      Id       Team 1        Team 2        Winner     Margin win_by_run  \\\n",
       "0      1  New Zealand      Pakistan   New Zealand    61 runs    61 runs   \n",
       "1      2  New Zealand      Pakistan   New Zealand  8 wickets        NaN   \n",
       "2      3       U.A.E.       Ireland       Ireland  4 wickets        NaN   \n",
       "3      4  New Zealand      Pakistan   New Zealand   183 runs   183 runs   \n",
       "4      5       U.A.E.       Ireland       Ireland    67 runs    67 runs   \n",
       "..   ...          ...           ...           ...        ...        ...   \n",
       "123  124    Australia  South Africa  South Africa    40 runs    40 runs   \n",
       "124  125  New Zealand      Pakistan     no result        NaN        NaN   \n",
       "125  126   Bangladesh   West Indies    Bangladesh  5 wickets        NaN   \n",
       "126  127   Bangladesh   West Indies   West Indies  4 wickets        NaN   \n",
       "127  128   Bangladesh   West Indies    Bangladesh  8 wickets        NaN   \n",
       "\n",
       "    win_by_wicket       Ground Match Date   Scorecard  \n",
       "0             NaN   Wellington   6-Jan-18  ODI # 3946  \n",
       "1       8 wickets       Nelson   9-Jan-18  ODI # 3947  \n",
       "2       4 wickets   ICCA Dubai  11-Jan-18  ODI # 3948  \n",
       "3             NaN      Dunedin  13-Jan-18  ODI # 3949  \n",
       "4             NaN   ICCA Dubai  13-Jan-18  ODI # 3950  \n",
       "..            ...          ...        ...         ...  \n",
       "123           NaN       Hobart  11-Nov-18  ODI # 4069  \n",
       "124           NaN  Dubai (DSC)  11-Nov-18  ODI # 4070  \n",
       "125     5 wickets        Dhaka   9-Dec-18  ODI # 4071  \n",
       "126     4 wickets        Dhaka  11-Dec-18  ODI # 4072  \n",
       "127     8 wickets       Sylhet  14-Dec-18  ODI # 4073  \n",
       "\n",
       "[128 rows x 10 columns]"
      ]
     },
     "execution_count": 3,
     "metadata": {},
     "output_type": "execute_result"
    }
   ],
   "source": [
    "df.fillna(\"NaN\")"
   ]
  },
  {
   "cell_type": "markdown",
   "metadata": {},
   "source": [
    "### Q. Highest No of matches played "
   ]
  },
  {
   "cell_type": "code",
   "execution_count": 4,
   "metadata": {},
   "outputs": [
    {
     "data": {
      "text/plain": [
       "128"
      ]
     },
     "execution_count": 4,
     "metadata": {},
     "output_type": "execute_result"
    }
   ],
   "source": [
    "df.shape[0]"
   ]
  },
  {
   "cell_type": "markdown",
   "metadata": {},
   "source": [
    "### Q. Number of matches played by per Team"
   ]
  },
  {
   "cell_type": "code",
   "execution_count": 5,
   "metadata": {},
   "outputs": [
    {
     "data": {
      "image/png": "[encoded data removed]",
      "text/plain": [
       "<Figure size 864x432 with 1 Axes>"
      ]
     },
     "metadata": {
      "needs_background": "light"
     },
     "output_type": "display_data"
    }
   ],
   "source": [
    "import matplotlib.pyplot as plt\n",
    "import seaborn as sns\n",
    "%matplotlib inline\n",
    "\n",
    "temp_df = pd.melt(df, id_vars=['Id'], value_vars=['Team 1', 'Team 2'])\n",
    "plt.figure(figsize=(12,6))\n",
    "sns.countplot(x='value', data=temp_df)\n",
    "plt.xticks(rotation='vertical')\n",
    "plt.show()"
   ]
  },
  {
   "cell_type": "markdown",
   "metadata": {},
   "source": [
    "### Q. Number of matches won by each Team"
   ]
  },
  {
   "cell_type": "code",
   "execution_count": 6,
   "metadata": {},
   "outputs": [
    {
     "data": {
      "image/png": "[encoded data removed]",
      "text/plain": [
       "<Figure size 864x432 with 1 Axes>"
      ]
     },
     "metadata": {
      "needs_background": "light"
     },
     "output_type": "display_data"
    }
   ],
   "source": [
    "plt.figure(figsize=(12,6))\n",
    "sns.countplot(x='Winner',data=df)\n",
    "plt.xticks(rotation='vertical')\n",
    "plt.show()"
   ]
  },
  {
   "cell_type": "markdown",
   "metadata": {},
   "source": [
    "### Other Method"
   ]
  },
  {
   "cell_type": "code",
   "execution_count": 7,
   "metadata": {},
   "outputs": [
    {
     "data": {
      "text/plain": [
       "England         17\n",
       "India           14\n",
       "Bangladesh      13\n",
       "Afghanistan     12\n",
       "South Africa     9\n",
       "New Zealand      8\n",
       "Ireland          8\n",
       "Pakistan         8\n",
       "West Indies      8\n",
       "Sri Lanka        6\n",
       "Scotland         5\n",
       "Zimbabwe         5\n",
       "U.A.E.           4\n",
       "tied             3\n",
       "Australia        2\n",
       "no result        2\n",
       "Hong Kong        1\n",
       "Netherlands      1\n",
       "Nepal            1\n",
       "P.N.G.           1\n",
       "Name: Winner, dtype: int64"
      ]
     },
     "execution_count": 7,
     "metadata": {},
     "output_type": "execute_result"
    }
   ],
   "source": [
    "df['Winner'].value_counts()"
   ]
  },
  {
   "cell_type": "markdown",
   "metadata": {},
   "source": [
    "### Q. Which ground has most number of matches played"
   ]
  },
  {
   "cell_type": "code",
   "execution_count": 8,
   "metadata": {},
   "outputs": [
    {
     "data": {
      "image/png": "[encoded data removed]",
      "text/plain": [
       "<Figure size 864x432 with 1 Axes>"
      ]
     },
     "metadata": {
      "needs_background": "light"
     },
     "output_type": "display_data"
    }
   ],
   "source": [
    "temp2_df = pd.melt(df, id_vars=['Id'], value_vars=['Ground'])\n",
    "plt.figure(figsize=(12,6))\n",
    "sns.countplot(x='value', data=temp2_df)\n",
    "plt.xticks(rotation='vertical')\n",
    "plt.show()"
   ]
  },
  {
   "cell_type": "code",
   "execution_count": 9,
   "metadata": {},
   "outputs": [
    {
     "data": {
      "text/plain": [
       "Harare                16\n",
       "Bulawayo              12\n",
       "Dhaka                 10\n",
       "Dubai (DSC)            9\n",
       "Abu Dhabi              7\n",
       "ICCA Dubai             6\n",
       "Sharjah                5\n",
       "Pallekele              4\n",
       "Dambulla               4\n",
       "Wellington             3\n",
       "Belfast                3\n",
       "Nottingham             2\n",
       "Chattogram             2\n",
       "Adelaide               2\n",
       "Dunedin                2\n",
       "Providence             2\n",
       "Hamilton               2\n",
       "Centurion              2\n",
       "Amstelveen             2\n",
       "Perth                  2\n",
       "Colombo (RPS)          2\n",
       "Sydney                 1\n",
       "Thiruvananthapuram     1\n",
       "Cardiff                1\n",
       "Melbourne              1\n",
       "Brisbane               1\n",
       "Johannesburg           1\n",
       "Kimberley              1\n",
       "Nelson                 1\n",
       "Hobart                 1\n",
       "Port Elizabeth         1\n",
       "Bloemfontein           1\n",
       "Paarl                  1\n",
       "The Oval               1\n",
       "Chester-le-Street      1\n",
       "Basseterre             1\n",
       "Kuala Lumpur           1\n",
       "Cape Town              1\n",
       "Mount Maunganui        1\n",
       "Edinburgh              1\n",
       "Manchester             1\n",
       "Leeds                  1\n",
       "Sylhet                 1\n",
       "Visakhapatnam          1\n",
       "Christchurch           1\n",
       "Lord's                 1\n",
       "Durban                 1\n",
       "Mumbai (BS)            1\n",
       "Pune                   1\n",
       "Guwahati               1\n",
       "Name: Ground, dtype: int64"
      ]
     },
     "execution_count": 9,
     "metadata": {},
     "output_type": "execute_result"
    }
   ],
   "source": [
    "df['Ground'].value_counts()"
   ]
  },
  {
   "cell_type": "markdown",
   "metadata": {},
   "source": [
    "### Q. Top 3 Countries who won most ODI's"
   ]
  },
  {
   "cell_type": "code",
   "execution_count": 10,
   "metadata": {},
   "outputs": [
    {
     "data": {
      "text/plain": [
       "England       17\n",
       "India         14\n",
       "Bangladesh    13\n",
       "Name: Winner, dtype: int64"
      ]
     },
     "execution_count": 10,
     "metadata": {},
     "output_type": "execute_result"
    }
   ],
   "source": [
    "df['Winner'].value_counts().head(3)"
   ]
  },
  {
   "cell_type": "markdown",
   "metadata": {},
   "source": [
    "### Q. Top 3 win by runs"
   ]
  },
  {
   "cell_type": "code",
   "execution_count": 11,
   "metadata": {},
   "outputs": [
    {
     "data": {
      "text/plain": [
       "3 runs     4\n",
       "12 runs    2\n",
       "78 runs    2\n",
       "Name: win_by_run, dtype: int64"
      ]
     },
     "execution_count": 11,
     "metadata": {},
     "output_type": "execute_result"
    }
   ],
   "source": [
    "df['win_by_run'].value_counts().head(3)"
   ]
  },
  {
   "cell_type": "markdown",
   "metadata": {},
   "source": [
    "### Q. Month in which most matches played "
   ]
  },
  {
   "cell_type": "code",
   "execution_count": 12,
   "metadata": {},
   "outputs": [],
   "source": [
    "import datetime"
   ]
  },
  {
   "cell_type": "markdown",
   "metadata": {},
   "source": [
    "####  Extract month from date"
   ]
  },
  {
   "cell_type": "code",
   "execution_count": 13,
   "metadata": {},
   "outputs": [
    {
     "data": {
      "text/html": [
       "<div>\n",
       "<style scoped>\n",
       "    .dataframe tbody tr th:only-of-type {\n",
       "        vertical-align: middle;\n",
       "    }\n",
       "\n",
       "    .dataframe tbody tr th {\n",
       "        vertical-align: top;\n",
       "    }\n",
       "\n",
       "    .dataframe thead th {\n",
       "        text-align: right;\n",
       "    }\n",
       "</style>\n",
       "<table border=\"1\" class=\"dataframe\">\n",
       "  <thead>\n",
       "    <tr style=\"text-align: right;\">\n",
       "      <th></th>\n",
       "      <th>Id</th>\n",
       "      <th>Team 1</th>\n",
       "      <th>Team 2</th>\n",
       "      <th>Winner</th>\n",
       "      <th>Margin</th>\n",
       "      <th>win_by_run</th>\n",
       "      <th>win_by_wicket</th>\n",
       "      <th>Ground</th>\n",
       "      <th>Match Date</th>\n",
       "      <th>Scorecard</th>\n",
       "      <th>month</th>\n",
       "    </tr>\n",
       "  </thead>\n",
       "  <tbody>\n",
       "    <tr>\n",
       "      <th>0</th>\n",
       "      <td>1</td>\n",
       "      <td>New Zealand</td>\n",
       "      <td>Pakistan</td>\n",
       "      <td>New Zealand</td>\n",
       "      <td>61 runs</td>\n",
       "      <td>61 runs</td>\n",
       "      <td>NaN</td>\n",
       "      <td>Wellington</td>\n",
       "      <td>6-Jan-18</td>\n",
       "      <td>ODI # 3946</td>\n",
       "      <td>1</td>\n",
       "    </tr>\n",
       "    <tr>\n",
       "      <th>1</th>\n",
       "      <td>2</td>\n",
       "      <td>New Zealand</td>\n",
       "      <td>Pakistan</td>\n",
       "      <td>New Zealand</td>\n",
       "      <td>8 wickets</td>\n",
       "      <td>NaN</td>\n",
       "      <td>8 wickets</td>\n",
       "      <td>Nelson</td>\n",
       "      <td>9-Jan-18</td>\n",
       "      <td>ODI # 3947</td>\n",
       "      <td>1</td>\n",
       "    </tr>\n",
       "    <tr>\n",
       "      <th>2</th>\n",
       "      <td>3</td>\n",
       "      <td>U.A.E.</td>\n",
       "      <td>Ireland</td>\n",
       "      <td>Ireland</td>\n",
       "      <td>4 wickets</td>\n",
       "      <td>NaN</td>\n",
       "      <td>4 wickets</td>\n",
       "      <td>ICCA Dubai</td>\n",
       "      <td>11-Jan-18</td>\n",
       "      <td>ODI # 3948</td>\n",
       "      <td>1</td>\n",
       "    </tr>\n",
       "    <tr>\n",
       "      <th>3</th>\n",
       "      <td>4</td>\n",
       "      <td>New Zealand</td>\n",
       "      <td>Pakistan</td>\n",
       "      <td>New Zealand</td>\n",
       "      <td>183 runs</td>\n",
       "      <td>183 runs</td>\n",
       "      <td>NaN</td>\n",
       "      <td>Dunedin</td>\n",
       "      <td>13-Jan-18</td>\n",
       "      <td>ODI # 3949</td>\n",
       "      <td>1</td>\n",
       "    </tr>\n",
       "    <tr>\n",
       "      <th>4</th>\n",
       "      <td>5</td>\n",
       "      <td>U.A.E.</td>\n",
       "      <td>Ireland</td>\n",
       "      <td>Ireland</td>\n",
       "      <td>67 runs</td>\n",
       "      <td>67 runs</td>\n",
       "      <td>NaN</td>\n",
       "      <td>ICCA Dubai</td>\n",
       "      <td>13-Jan-18</td>\n",
       "      <td>ODI # 3950</td>\n",
       "      <td>1</td>\n",
       "    </tr>\n",
       "  </tbody>\n",
       "</table>\n",
       "</div>"
      ],
      "text/plain": [
       "   Id       Team 1    Team 2       Winner     Margin win_by_run win_by_wicket  \\\n",
       "0   1  New Zealand  Pakistan  New Zealand    61 runs    61 runs           NaN   \n",
       "1   2  New Zealand  Pakistan  New Zealand  8 wickets        NaN     8 wickets   \n",
       "2   3       U.A.E.   Ireland      Ireland  4 wickets        NaN     4 wickets   \n",
       "3   4  New Zealand  Pakistan  New Zealand   183 runs   183 runs           NaN   \n",
       "4   5       U.A.E.   Ireland      Ireland    67 runs    67 runs           NaN   \n",
       "\n",
       "       Ground Match Date   Scorecard  month  \n",
       "0  Wellington   6-Jan-18  ODI # 3946      1  \n",
       "1      Nelson   9-Jan-18  ODI # 3947      1  \n",
       "2  ICCA Dubai  11-Jan-18  ODI # 3948      1  \n",
       "3     Dunedin  13-Jan-18  ODI # 3949      1  \n",
       "4  ICCA Dubai  13-Jan-18  ODI # 3950      1  "
      ]
     },
     "execution_count": 13,
     "metadata": {},
     "output_type": "execute_result"
    }
   ],
   "source": [
    "df['month'] = pd.DatetimeIndex(df['Match Date']).month\n",
    "df.head()"
   ]
  },
  {
   "cell_type": "markdown",
   "metadata": {},
   "source": [
    "#### Answer"
   ]
  },
  {
   "cell_type": "code",
   "execution_count": 14,
   "metadata": {},
   "outputs": [
    {
     "data": {
      "text/plain": [
       "3    26\n",
       "Name: month, dtype: int64"
      ]
     },
     "execution_count": 14,
     "metadata": {},
     "output_type": "execute_result"
    }
   ],
   "source": [
    "df['month'].value_counts().head(1)"
   ]
  },
  {
   "cell_type": "markdown",
   "metadata": {},
   "source": [
    "####  Answer : March"
   ]
  },
  {
   "cell_type": "markdown",
   "metadata": {},
   "source": [
    "### Q. Matches Played Every Month"
   ]
  },
  {
   "cell_type": "markdown",
   "metadata": {},
   "source": [
    "#### Convert Number To month"
   ]
  },
  {
   "cell_type": "code",
   "execution_count": 15,
   "metadata": {},
   "outputs": [],
   "source": [
    "import calendar\n",
    "df['month'] = df['month'].apply(lambda x: calendar.month_abbr[x])"
   ]
  },
  {
   "cell_type": "code",
   "execution_count": 16,
   "metadata": {},
   "outputs": [
    {
     "data": {
      "text/html": [
       "<div>\n",
       "<style scoped>\n",
       "    .dataframe tbody tr th:only-of-type {\n",
       "        vertical-align: middle;\n",
       "    }\n",
       "\n",
       "    .dataframe tbody tr th {\n",
       "        vertical-align: top;\n",
       "    }\n",
       "\n",
       "    .dataframe thead th {\n",
       "        text-align: right;\n",
       "    }\n",
       "</style>\n",
       "<table border=\"1\" class=\"dataframe\">\n",
       "  <thead>\n",
       "    <tr style=\"text-align: right;\">\n",
       "      <th></th>\n",
       "      <th>Id</th>\n",
       "      <th>Team 1</th>\n",
       "      <th>Team 2</th>\n",
       "      <th>Winner</th>\n",
       "      <th>Margin</th>\n",
       "      <th>win_by_run</th>\n",
       "      <th>win_by_wicket</th>\n",
       "      <th>Ground</th>\n",
       "      <th>Match Date</th>\n",
       "      <th>Scorecard</th>\n",
       "      <th>month</th>\n",
       "    </tr>\n",
       "  </thead>\n",
       "  <tbody>\n",
       "    <tr>\n",
       "      <th>0</th>\n",
       "      <td>1</td>\n",
       "      <td>New Zealand</td>\n",
       "      <td>Pakistan</td>\n",
       "      <td>New Zealand</td>\n",
       "      <td>61 runs</td>\n",
       "      <td>61 runs</td>\n",
       "      <td>NaN</td>\n",
       "      <td>Wellington</td>\n",
       "      <td>6-Jan-18</td>\n",
       "      <td>ODI # 3946</td>\n",
       "      <td>Jan</td>\n",
       "    </tr>\n",
       "    <tr>\n",
       "      <th>1</th>\n",
       "      <td>2</td>\n",
       "      <td>New Zealand</td>\n",
       "      <td>Pakistan</td>\n",
       "      <td>New Zealand</td>\n",
       "      <td>8 wickets</td>\n",
       "      <td>NaN</td>\n",
       "      <td>8 wickets</td>\n",
       "      <td>Nelson</td>\n",
       "      <td>9-Jan-18</td>\n",
       "      <td>ODI # 3947</td>\n",
       "      <td>Jan</td>\n",
       "    </tr>\n",
       "    <tr>\n",
       "      <th>2</th>\n",
       "      <td>3</td>\n",
       "      <td>U.A.E.</td>\n",
       "      <td>Ireland</td>\n",
       "      <td>Ireland</td>\n",
       "      <td>4 wickets</td>\n",
       "      <td>NaN</td>\n",
       "      <td>4 wickets</td>\n",
       "      <td>ICCA Dubai</td>\n",
       "      <td>11-Jan-18</td>\n",
       "      <td>ODI # 3948</td>\n",
       "      <td>Jan</td>\n",
       "    </tr>\n",
       "    <tr>\n",
       "      <th>3</th>\n",
       "      <td>4</td>\n",
       "      <td>New Zealand</td>\n",
       "      <td>Pakistan</td>\n",
       "      <td>New Zealand</td>\n",
       "      <td>183 runs</td>\n",
       "      <td>183 runs</td>\n",
       "      <td>NaN</td>\n",
       "      <td>Dunedin</td>\n",
       "      <td>13-Jan-18</td>\n",
       "      <td>ODI # 3949</td>\n",
       "      <td>Jan</td>\n",
       "    </tr>\n",
       "    <tr>\n",
       "      <th>4</th>\n",
       "      <td>5</td>\n",
       "      <td>U.A.E.</td>\n",
       "      <td>Ireland</td>\n",
       "      <td>Ireland</td>\n",
       "      <td>67 runs</td>\n",
       "      <td>67 runs</td>\n",
       "      <td>NaN</td>\n",
       "      <td>ICCA Dubai</td>\n",
       "      <td>13-Jan-18</td>\n",
       "      <td>ODI # 3950</td>\n",
       "      <td>Jan</td>\n",
       "    </tr>\n",
       "  </tbody>\n",
       "</table>\n",
       "</div>"
      ],
      "text/plain": [
       "   Id       Team 1    Team 2       Winner     Margin win_by_run win_by_wicket  \\\n",
       "0   1  New Zealand  Pakistan  New Zealand    61 runs    61 runs           NaN   \n",
       "1   2  New Zealand  Pakistan  New Zealand  8 wickets        NaN     8 wickets   \n",
       "2   3       U.A.E.   Ireland      Ireland  4 wickets        NaN     4 wickets   \n",
       "3   4  New Zealand  Pakistan  New Zealand   183 runs   183 runs           NaN   \n",
       "4   5       U.A.E.   Ireland      Ireland    67 runs    67 runs           NaN   \n",
       "\n",
       "       Ground Match Date   Scorecard month  \n",
       "0  Wellington   6-Jan-18  ODI # 3946   Jan  \n",
       "1      Nelson   9-Jan-18  ODI # 3947   Jan  \n",
       "2  ICCA Dubai  11-Jan-18  ODI # 3948   Jan  \n",
       "3     Dunedin  13-Jan-18  ODI # 3949   Jan  \n",
       "4  ICCA Dubai  13-Jan-18  ODI # 3950   Jan  "
      ]
     },
     "execution_count": 16,
     "metadata": {},
     "output_type": "execute_result"
    }
   ],
   "source": [
    "df.head()"
   ]
  },
  {
   "cell_type": "markdown",
   "metadata": {},
   "source": [
    "#### Answer"
   ]
  },
  {
   "cell_type": "code",
   "execution_count": 17,
   "metadata": {},
   "outputs": [
    {
     "data": {
      "text/plain": [
       "Mar    26\n",
       "Jan    23\n",
       "Sep    14\n",
       "Oct    14\n",
       "Feb    13\n",
       "Jul    12\n",
       "Aug    10\n",
       "Nov     7\n",
       "Jun     6\n",
       "Dec     3\n",
       "Name: month, dtype: int64"
      ]
     },
     "execution_count": 17,
     "metadata": {},
     "output_type": "execute_result"
    }
   ],
   "source": [
    "df['month'].value_counts()"
   ]
  },
  {
   "cell_type": "markdown",
   "metadata": {},
   "source": [
    "###  Plot"
   ]
  },
  {
   "cell_type": "code",
   "execution_count": 18,
   "metadata": {},
   "outputs": [
    {
     "data": {
      "image/png": "[encoded data removed]",
      "text/plain": [
       "<Figure size 576x432 with 1 Axes>"
      ]
     },
     "metadata": {
      "needs_background": "light"
     },
     "output_type": "display_data"
    }
   ],
   "source": [
    "month_match = pd.melt(df, id_vars=['Id'], value_vars=['month'])\n",
    "plt.figure(figsize=(8,6))\n",
    "sns.countplot(x='value', data=month_match)\n",
    "plt.xticks(rotation='vertical')\n",
    "plt.show()"
   ]
  },
  {
   "cell_type": "markdown",
   "metadata": {},
   "source": [
    "## Q. Did India Won Most of The Matches By Playing First or Chasing"
   ]
  },
  {
   "cell_type": "markdown",
   "metadata": {},
   "source": [
    "#### Matches India Won"
   ]
  },
  {
   "cell_type": "code",
   "execution_count": 19,
   "metadata": {},
   "outputs": [
    {
     "data": {
      "text/html": [
       "<div>\n",
       "<style scoped>\n",
       "    .dataframe tbody tr th:only-of-type {\n",
       "        vertical-align: middle;\n",
       "    }\n",
       "\n",
       "    .dataframe tbody tr th {\n",
       "        vertical-align: top;\n",
       "    }\n",
       "\n",
       "    .dataframe thead th {\n",
       "        text-align: right;\n",
       "    }\n",
       "</style>\n",
       "<table border=\"1\" class=\"dataframe\">\n",
       "  <thead>\n",
       "    <tr style=\"text-align: right;\">\n",
       "      <th></th>\n",
       "      <th>Winner</th>\n",
       "      <th>win_by_run</th>\n",
       "      <th>win_by_wicket</th>\n",
       "      <th>month</th>\n",
       "    </tr>\n",
       "  </thead>\n",
       "  <tbody>\n",
       "    <tr>\n",
       "      <th>23</th>\n",
       "      <td>India</td>\n",
       "      <td>NaN</td>\n",
       "      <td>6 wickets</td>\n",
       "      <td>Feb</td>\n",
       "    </tr>\n",
       "    <tr>\n",
       "      <th>24</th>\n",
       "      <td>India</td>\n",
       "      <td>NaN</td>\n",
       "      <td>9 wickets</td>\n",
       "      <td>Feb</td>\n",
       "    </tr>\n",
       "    <tr>\n",
       "      <th>25</th>\n",
       "      <td>India</td>\n",
       "      <td>124 runs</td>\n",
       "      <td>NaN</td>\n",
       "      <td>Feb</td>\n",
       "    </tr>\n",
       "    <tr>\n",
       "      <th>30</th>\n",
       "      <td>India</td>\n",
       "      <td>73 runs</td>\n",
       "      <td>NaN</td>\n",
       "      <td>Feb</td>\n",
       "    </tr>\n",
       "    <tr>\n",
       "      <th>32</th>\n",
       "      <td>India</td>\n",
       "      <td>NaN</td>\n",
       "      <td>8 wickets</td>\n",
       "      <td>Feb</td>\n",
       "    </tr>\n",
       "    <tr>\n",
       "      <th>68</th>\n",
       "      <td>India</td>\n",
       "      <td>NaN</td>\n",
       "      <td>8 wickets</td>\n",
       "      <td>Jul</td>\n",
       "    </tr>\n",
       "    <tr>\n",
       "      <th>93</th>\n",
       "      <td>India</td>\n",
       "      <td>26 runs</td>\n",
       "      <td>NaN</td>\n",
       "      <td>Sep</td>\n",
       "    </tr>\n",
       "    <tr>\n",
       "      <th>94</th>\n",
       "      <td>India</td>\n",
       "      <td>NaN</td>\n",
       "      <td>8 wickets</td>\n",
       "      <td>Sep</td>\n",
       "    </tr>\n",
       "    <tr>\n",
       "      <th>96</th>\n",
       "      <td>India</td>\n",
       "      <td>NaN</td>\n",
       "      <td>7 wickets</td>\n",
       "      <td>Sep</td>\n",
       "    </tr>\n",
       "    <tr>\n",
       "      <th>98</th>\n",
       "      <td>India</td>\n",
       "      <td>NaN</td>\n",
       "      <td>9 wickets</td>\n",
       "      <td>Sep</td>\n",
       "    </tr>\n",
       "    <tr>\n",
       "      <th>102</th>\n",
       "      <td>India</td>\n",
       "      <td>NaN</td>\n",
       "      <td>3 wickets</td>\n",
       "      <td>Sep</td>\n",
       "    </tr>\n",
       "    <tr>\n",
       "      <th>110</th>\n",
       "      <td>India</td>\n",
       "      <td>NaN</td>\n",
       "      <td>8 wickets</td>\n",
       "      <td>Oct</td>\n",
       "    </tr>\n",
       "    <tr>\n",
       "      <th>117</th>\n",
       "      <td>India</td>\n",
       "      <td>224 runs</td>\n",
       "      <td>NaN</td>\n",
       "      <td>Oct</td>\n",
       "    </tr>\n",
       "    <tr>\n",
       "      <th>118</th>\n",
       "      <td>India</td>\n",
       "      <td>NaN</td>\n",
       "      <td>9 wickets</td>\n",
       "      <td>Nov</td>\n",
       "    </tr>\n",
       "  </tbody>\n",
       "</table>\n",
       "</div>"
      ],
      "text/plain": [
       "    Winner win_by_run win_by_wicket month\n",
       "23   India        NaN     6 wickets   Feb\n",
       "24   India        NaN     9 wickets   Feb\n",
       "25   India   124 runs           NaN   Feb\n",
       "30   India    73 runs           NaN   Feb\n",
       "32   India        NaN     8 wickets   Feb\n",
       "68   India        NaN     8 wickets   Jul\n",
       "93   India    26 runs           NaN   Sep\n",
       "94   India        NaN     8 wickets   Sep\n",
       "96   India        NaN     7 wickets   Sep\n",
       "98   India        NaN     9 wickets   Sep\n",
       "102  India        NaN     3 wickets   Sep\n",
       "110  India        NaN     8 wickets   Oct\n",
       "117  India   224 runs           NaN   Oct\n",
       "118  India        NaN     9 wickets   Nov"
      ]
     },
     "execution_count": 19,
     "metadata": {},
     "output_type": "execute_result"
    }
   ],
   "source": [
    "india=df[['Winner','win_by_run','win_by_wicket','month']][df['Winner']=='India']\n",
    "india"
   ]
  },
  {
   "cell_type": "markdown",
   "metadata": {},
   "source": [
    "#### Total Win By Playing First"
   ]
  },
  {
   "cell_type": "code",
   "execution_count": 20,
   "metadata": {},
   "outputs": [
    {
     "data": {
      "text/plain": [
       "4"
      ]
     },
     "execution_count": 20,
     "metadata": {},
     "output_type": "execute_result"
    }
   ],
   "source": [
    "india['win_by_run'].count()"
   ]
  },
  {
   "cell_type": "markdown",
   "metadata": {},
   "source": [
    "#### Total Win Chasing"
   ]
  },
  {
   "cell_type": "code",
   "execution_count": 21,
   "metadata": {},
   "outputs": [
    {
     "data": {
      "text/plain": [
       "10"
      ]
     },
     "execution_count": 21,
     "metadata": {},
     "output_type": "execute_result"
    }
   ],
   "source": [
    "india['win_by_wicket'].count()"
   ]
  },
  {
   "cell_type": "markdown",
   "metadata": {},
   "source": [
    "#### Answer : India Win By Chasing in Most Matches"
   ]
  },
  {
   "cell_type": "markdown",
   "metadata": {},
   "source": [
    "### Q. Most Matches Won By Any Team In Janurary"
   ]
  },
  {
   "cell_type": "code",
   "execution_count": 22,
   "metadata": {},
   "outputs": [
    {
     "data": {
      "text/plain": [
       "New Zealand    5\n",
       "Ireland        4\n",
       "England        4\n",
       "Bangladesh     3\n",
       "Sri Lanka      3\n",
       "U.A.E.         1\n",
       "Zimbabwe       1\n",
       "Scotland       1\n",
       "Australia      1\n",
       "Name: Winner, dtype: int64"
      ]
     },
     "execution_count": 22,
     "metadata": {},
     "output_type": "execute_result"
    }
   ],
   "source": [
    "jan=df[['Winner','month']][df['month']=='Jan']\n",
    "jan['Winner'].value_counts()\n"
   ]
  },
  {
   "cell_type": "code",
   "execution_count": null,
   "metadata": {},
   "outputs": [],
   "source": []
  }
 ],
 "metadata": {
  "kernelspec": {
   "display_name": "Python 3",
   "language": "python",
   "name": "python3"
  },
  "language_info": {
   "codemirror_mode": {
    "name": "ipython",
    "version": 3
   },
   "file_extension": ".py",
   "mimetype": "text/x-python",
   "name": "python",
   "nbconvert_exporter": "python",
   "pygments_lexer": "ipython3",
   "version": "3.7.6"
  }
 },
 "nbformat": 4,
 "nbformat_minor": 4
}
